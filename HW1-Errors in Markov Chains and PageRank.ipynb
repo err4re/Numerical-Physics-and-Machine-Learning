{
 "cells": [
  {
   "cell_type": "markdown",
   "metadata": {
    "colab_type": "text",
    "id": "WTU3bQjbhHNG",
    "nbpresent": {
     "id": "41110e57-97d0-4804-9dd1-1b45e3b94408"
    }
   },
   "source": [
    "# <center> Homework : Errors in Markov Chains and PageRank</center>\n",
    "\n",
    "\n",
    "\n",
    "The goal of this homework is to twofold: In the first part you should evaluate errors in Markov chain Monte Carlo. In the second part you study PageRank algorithm."
   ]
  },
  {
   "cell_type": "markdown",
   "metadata": {
    "colab_type": "text",
    "id": "yzPYxUYZhHNI"
   },
   "source": [
    "## <center> Part I: Markov Chain Monte Carlo</center>"
   ]
  },
  {
   "cell_type": "markdown",
   "metadata": {
    "colab_type": "text",
    "id": "guBR-OgJhHNK",
    "nbpresent": {
     "id": "f2f60dbd-7be9-4de7-927a-010e92eae10d"
    }
   },
   "source": [
    "### A particle on the top of a Mexican hat\n",
    "\n",
    "We consider a particle on the xy plane confined by a two dimensional external potential:\n",
    "$$V(\\vec{r}) = r^4 - 8 r^2$$\n",
    "where $\\vec{r}=(x,y)$ and $r=\\sqrt{x^2+y^2}$ indentify the particle position and its disance from the origin. We assume the particle at the equilibrium at temperature $T=1$ and then described by the Boltzmann weight:\n",
    "$$\\pi(\\vec{r}) \\propto e^{-V(\\vec{r})}$$\n",
    "we are interested on two quantities: \n",
    "\n",
    "(i) Observable A: the average distance from the origin $\\langle r\\rangle$. \n",
    "\n",
    "(ii) Observable B: the average horizontal coordinate $\\langle x \\rangle$.\n",
    "\n",
    "with\n",
    "$$ \\langle \\ldots \\rangle = \\frac{\\int d \\vec{r} \\ldots e^{-V(\\vec{r})}}{\\int d \\vec{r} e^{-V(\\vec{r})}}$$\n",
    "\n",
    "\n",
    "### The Markov Chain Algorithm\n",
    "\n",
    "Write a Metropolis algorithm sampling the particle position, $\\vec{r}$: \n",
    "\n",
    "(i) You will set the particle jump uniformly distributed inside a square of side 2 using python function random.uniform(-1,1) \n",
    "\n",
    "(ii) You will run a unique long simulation and record at least $N_{\\text{trials}}=2^{20}$ positions, $\\vec{r}$.\n"
   ]
  },
  {
   "cell_type": "markdown",
   "metadata": {
    "colab_type": "text",
    "id": "BqfHpEzMhHNN"
   },
   "source": [
    "### <center> Questions</center>\n",
    "\n",
    "* **Question 1**: Implement the correct Metropolis Algorithm. Show the histograms of the two observables."
   ]
  },
  {
   "cell_type": "markdown",
   "metadata": {},
   "source": [
    "#### Answer space \n",
    "\n",
    "A program and two labeled figures are expected to answer this question.\n",
    "\n",
    "----------------------------------------------------------------------------------------------"
   ]
  },
  {
   "cell_type": "code",
   "execution_count": 4,
   "metadata": {},
   "outputs": [],
   "source": [
    "import numpy as np\n",
    "import random\n",
    "import matplotlib.pyplot as plt\n",
    "\n",
    "\n",
    "#reproduce given potential\n",
    "def potential(x,y):\n",
    "    \n",
    "    r2 = x**2 + y**2\n",
    "    \n",
    "    return (r2)**2 - 8*r2\n",
    "\n",
    "\n",
    "#generate Markov chain\n",
    "def Markov_chain(L, N):\n",
    "    \n",
    "    #recorded positions in chain\n",
    "    x = []\n",
    "    y = []\n",
    "    \n",
    "    #starting position\n",
    "    x.append(0)\n",
    "    y.append(0)\n",
    "\n",
    "    for i in range(N-1):\n",
    "\n",
    "        #current position\n",
    "        x_old = x[-1]\n",
    "        y_old = y[-1]\n",
    "\n",
    "        #generate step\n",
    "        x_new = x_old + random.uniform(-L,L)\n",
    "        y_new = y_old + random.uniform(-L,L)\n",
    "\n",
    "        #generate weight for Metropolis\n",
    "        w_acc = np.exp(-potential(x_new,y_new))/np.exp(-potential(x_old,y_old))\n",
    "        w_rej = random.uniform(0,1.0)\n",
    "\n",
    "        #check weight and new position\n",
    "        if w_acc > w_rej:\n",
    "            x.append(x_new)\n",
    "            y.append(y_new)\n",
    "        else:\n",
    "            x.append(x_old)\n",
    "            y.append(y_old)\n",
    "            \n",
    "    return x,y"
   ]
  },
  {
   "cell_type": "code",
   "execution_count": 5,
   "metadata": {},
   "outputs": [
    {
     "data": {
      "image/png": "[encoded data removed]",
      "text/plain": [
       "<Figure size 432x288 with 1 Axes>"
      ]
     },
     "metadata": {
      "needs_background": "light"
     },
     "output_type": "display_data"
    }
   ],
   "source": [
    "#square of sidelength 2L\n",
    "L = 1\n",
    "\n",
    "#number of trials\n",
    "N = 2**20\n",
    "\n",
    "\n",
    "x,y = Markov_chain(L, N)\n",
    "\n",
    "#save distances from origin\n",
    "r = []\n",
    "\n",
    "for (x_pos,y_pos) in zip(x,y):\n",
    "    r.append(np.sqrt(x_pos**2 + y_pos**2))\n",
    "    \n",
    "#plot 1d histogram for r\n",
    "n, bins, patches = plt.hist(r, bins=200, density=True, facecolor='g', alpha=0.75)    \n",
    "plt.xticks(fontsize=12)\n",
    "plt.yticks(fontsize=12)\n",
    "plt.title('1d Histgram for r, N= '+str(N)+'', fontsize=15)\n",
    "plt.ylabel('Histogram', fontsize=15)\n",
    "plt.xlabel('r', fontsize=15)\n",
    "plt.show()"
   ]
  },
  {
   "cell_type": "code",
   "execution_count": 6,
   "metadata": {},
   "outputs": [
    {
     "data": {
      "image/png": "[encoded data removed]",
      "text/plain": [
       "<Figure size 432x288 with 1 Axes>"
      ]
     },
     "metadata": {
      "needs_background": "light"
     },
     "output_type": "display_data"
    }
   ],
   "source": [
    "#1d histogram for x\n",
    "n, bins, patches = plt.hist(x, bins=500, density=True, facecolor='g', alpha=0.75)    \n",
    "plt.xticks(fontsize=12)\n",
    "plt.yticks(fontsize=12)\n",
    "plt.title('1d Histogram for x, N= '+str(N)+'', fontsize=15)\n",
    "plt.ylabel('Histogram', fontsize=15)\n",
    "plt.xlabel('x', fontsize=15)\n",
    "plt.show()"
   ]
  },
  {
   "cell_type": "code",
   "execution_count": 7,
   "metadata": {},
   "outputs": [
    {
     "data": {
      "image/png": "[encoded data removed]",
      "text/plain": [
       "<Figure size 432x288 with 1 Axes>"
      ]
     },
     "metadata": {
      "needs_background": "light"
     },
     "output_type": "display_data"
    }
   ],
   "source": [
    "#1d histogram for y\n",
    "n, bins, patches = plt.hist(y, bins=500, density=True, facecolor='g', alpha=0.75)    \n",
    "plt.xticks(fontsize=12)\n",
    "plt.yticks(fontsize=12)\n",
    "plt.title('1d Histgram for y, N= '+str(N)+'', fontsize=15)\n",
    "plt.ylabel('Histogram', fontsize=15)\n",
    "plt.xlabel('y', fontsize=15)\n",
    "plt.show()"
   ]
  },
  {
   "cell_type": "markdown",
   "metadata": {},
   "source": [
    "Indeed $x$ and $y$ behave analogously, as expected for a potential that depends exclusively on $r= \\sqrt{ x^2 + y^2}$.\n",
    "\n",
    "Now plot a 2d histogram."
   ]
  },
  {
   "cell_type": "code",
   "execution_count": 8,
   "metadata": {},
   "outputs": [
    {
     "data": {
      "image/png": "[encoded data removed]",
      "text/plain": [
       "<Figure size 432x288 with 1 Axes>"
      ]
     },
     "metadata": {
      "needs_background": "light"
     },
     "output_type": "display_data"
    }
   ],
   "source": [
    "#2d histogram, L=1\n",
    "h, xedges, yedges, image = plt.hist2d(x, y, bins=200)\n",
    "plt.xticks(fontsize=12)\n",
    "plt.yticks(fontsize=12)\n",
    "plt.title('2d Histogram, L = ' + str(L) +', N= '+str(N)+'', fontsize=15)\n",
    "plt.ylabel('y', fontsize=15)\n",
    "plt.xlabel('x', fontsize=15)\n",
    "plt.show()"
   ]
  },
  {
   "cell_type": "markdown",
   "metadata": {},
   "source": [
    "The mexican hat is nicely visible!"
   ]
  },
  {
   "cell_type": "markdown",
   "metadata": {
    "colab_type": "text",
    "id": "8A0GgoXFhHNo"
   },
   "source": [
    "\n",
    "* **Question 2**:  Implement the bunching method  on the data of the two observables. Provide an estimation of the correlation time using previous figures. \n"
   ]
  },
  {
   "cell_type": "markdown",
   "metadata": {
    "colab_type": "text",
    "id": "fXt3qbNjhHNo"
   },
   "source": [
    "#### Answer space  (two figures are expected)\n",
    "\n",
    "$$ \\tau_x \\approx 256 $$\n",
    "\n",
    "$$ \\tau_r \\approx 32 $$\n",
    "\n",
    "Is the correlation time different for the two observables? Why? (be synthetic)\n",
    "\n",
    "----------------------------------------------------------------------------------------------"
   ]
  },
  {
   "cell_type": "code",
   "execution_count": 9,
   "metadata": {},
   "outputs": [
    {
     "data": {
      "image/png": "[encoded data removed]",
      "text/plain": [
       "<Figure size 432x288 with 1 Axes>"
      ]
     },
     "metadata": {
      "needs_background": "light"
     },
     "output_type": "display_data"
    }
   ],
   "source": [
    "#average the observables\n",
    "r_aver = []\n",
    "x_aver = []\n",
    "\n",
    "r_aver.append(r[0])\n",
    "x_aver.append(x[0])\n",
    "\n",
    "#iterate skipping first entry/initial position\n",
    "for i in (range(N)[2:]):\n",
    "    \n",
    "    r_aver.append((r_aver[-1]*(i-1) + r[i])*(1/i))\n",
    "    x_aver.append((x_aver[-1]*(i-1) + x[i])*(1/i))\n",
    "    \n",
    "plt.plot(range(N)[1:], r_aver, label=\"average for r\")\n",
    "plt.plot(range(N)[1:], x_aver, label=\"average for x\")\n",
    "plt.xticks(fontsize=12)\n",
    "plt.yticks(fontsize=12)\n",
    "plt.title(\"Running average, L = \" + str(L) , fontsize=15)\n",
    "plt.xlabel(\"N: number of runs\", fontsize=15)\n",
    "plt.ylabel(\"average(N)\", fontsize=15)\n",
    "plt.legend()\n",
    "plt.show()"
   ]
  },
  {
   "cell_type": "markdown",
   "metadata": {},
   "source": [
    "Already from the running averages it is easy to see, that $r$ converges faster than $x$. In other words, the correlation time $\\tau_r < \\tau_x$.\n",
    "\n",
    "This makes a lot of sense since $r$ is composed of $x$ and $y$, so its correlation time will be smaller than that of the individual, independently drawn variables. However this does not explain the difference entirely, to sample $x$ one has to run along the valley from $0$ to $2 \\pi$, whereas for $r$ we have a narrow distribution peaked at $2$. This is the dominant effect explaining the different correlation times.\n",
    "\n",
    "Now for the bunching method:"
   ]
  },
  {
   "cell_type": "code",
   "execution_count": 10,
   "metadata": {},
   "outputs": [
    {
     "name": "stdout",
     "output_type": "stream",
     "text": [
      "No bunching at all:\n",
      "mean of r: 1.9917265807405033 and its error: 0.000175342298432935\n",
      "mean of x: 0.0002632497322084095 and its error: 0.0013815069334974033\n"
     ]
    }
   ],
   "source": [
    "print(\"No bunching at all:\")\n",
    "print(\"mean of r: \" + str(np.mean(r)) + \" and its error: \" + str(np.std(r)/np.sqrt(N)))\n",
    "print(\"mean of x: \" + str(np.mean(x)) + \" and its error: \" + str(np.std(x)/np.sqrt(N)))"
   ]
  },
  {
   "cell_type": "code",
   "execution_count": 11,
   "metadata": {},
   "outputs": [],
   "source": [
    "#number of bunching iterations\n",
    "bunching_iter = 18\n",
    "\n",
    "#save results here\n",
    "bunching_err_r = []\n",
    "bunching_err_x = []\n",
    "\n",
    "r_bunched = r.copy()\n",
    "x_bunched = x.copy()\n",
    "\n",
    "#iterate over bunching sizes, from 1 to bunching_iter\n",
    "for i in range(bunching_iter):\n",
    "    \n",
    "    r_bunched = [(r_bunched[j]+r_bunched[j+1])/2 for j in range(0, len(r_bunched), 2)]\n",
    "    x_bunched = [(x_bunched[j]+x_bunched[j+1])/2 for j in range(0, len(x_bunched), 2)]\n",
    "    \n",
    "    \n",
    "    bunching_err_r.append(np.std(r_bunched)/np.sqrt(len(r_bunched)))\n",
    "    bunching_err_x.append(np.std(x_bunched)/np.sqrt(len(x_bunched)))\n",
    "    \n"
   ]
  },
  {
   "cell_type": "code",
   "execution_count": 12,
   "metadata": {},
   "outputs": [
    {
     "data": {
      "image/png": "[encoded data removed]",
      "text/plain": [
       "<Figure size 1080x288 with 2 Axes>"
      ]
     },
     "metadata": {
      "needs_background": "light"
     },
     "output_type": "display_data"
    }
   ],
   "source": [
    "fig, (ax1, ax2) = plt.subplots(1, 2)\n",
    "fig.set_figwidth(15)\n",
    "fig.suptitle('Bunching Method', fontsize=\"15\")\n",
    "ax1.plot(bunching_err_r, 'o')\n",
    "ax1.set_ylabel(\"Error\", fontsize=\"15\")\n",
    "ax1.set_xlabel(\"bunching iteration\", fontsize=\"15\")\n",
    "ax1.set_title('Observable r', fontsize=\"15\")\n",
    "ax2.plot(bunching_err_x, 'o')\n",
    "ax2.set_title('Observable x', fontsize=\"15\")\n",
    "ax2.set_xlabel(\"bunching iteration\", fontsize=\"15\")\n",
    "plt.tight_layout()\n",
    "plt.show()"
   ]
  },
  {
   "cell_type": "markdown",
   "metadata": {},
   "source": [
    "Roughly eight bunching iterations are needed to reach the expected plateau for $x$ and five for $r$.\n",
    "\n",
    "$\\tau_r \\approx 2^5 = 32$\n",
    "\n",
    "$\\tau_x \\approx 2^8 = 256$"
   ]
  },
  {
   "cell_type": "markdown",
   "metadata": {
    "colab_type": "text",
    "id": "5HWLqqVChHNq"
   },
   "source": [
    "\n",
    "* **Question 3**: Provide the estimation of both observables with their statistical erorrs:\n"
   ]
  },
  {
   "cell_type": "markdown",
   "metadata": {
    "colab_type": "text",
    "id": "-moXOTRihHNv"
   },
   "source": [
    "#### Answer space \n",
    "\n",
    "$$ \\langle x\\rangle =  0.0003 \\pm  0.015 $$\n",
    "\n",
    "$$\\langle r\\rangle = 1.99173 \\pm  0.00037 $$ \n",
    "\n",
    "----------------------------------------------------------------------------------------------"
   ]
  },
  {
   "cell_type": "code",
   "execution_count": 21,
   "metadata": {},
   "outputs": [
    {
     "name": "stdout",
     "output_type": "stream",
     "text": [
      "error for r: 0.0003735415672881963\n",
      "error for x: 0.014758656784664467\n",
      "\n",
      " This gives:\n",
      "<r> = 1.9917265807405033\t±0.0003735415672881963\n",
      "<x> = 0.0002632497322084095\t±0.014758656784664467\n"
     ]
    }
   ],
   "source": [
    "#error inside plateau\n",
    "print(\"error for r: \" + str(bunching_err_r[6]))\n",
    "print(\"error for x: \" + str(bunching_err_x[9]))\n",
    "\n",
    "print(\"\\n This gives:\")\n",
    "print(\"<r> = \" + str(np.mean(r)) +\"\\t\"+ chr(177) + str(bunching_err_r[6]))\n",
    "print(\"<x> = \" + str(np.mean(x)) +\"\\t\"+ chr(177) + str(bunching_err_x[9]))"
   ]
  },
  {
   "cell_type": "markdown",
   "metadata": {
    "colab_type": "text",
    "id": "hsQnLTfxhHNw"
   },
   "source": [
    "The output of the previous program is a long list of correlated data: $x_0,x_1,\\dots,x_i,\\ldots$ and $r_0,r_1,\\dots,r_i,\\ldots$\n",
    "For both observables one can study statistical correlations via the following autocorrelation functions \n",
    "\n",
    "$$C_r(n)= \\langle (r_i-\\langle r\\rangle)(r_{i+n}-\\langle r\\rangle)\\rangle $$\n",
    "\n",
    "$$ C_x(n)= \\langle (x_i-\\langle x\\rangle)(x_{i+n}-\\langle x\\rangle)\\rangle $$\n",
    "\n",
    "Here we consider a single long Markov chain so that both $C_r(n)$ and $C_x(n)$ are independent of $i$, so that the stationary limit is reached.\n",
    "\n",
    "* **Question 4**: Estimate numerically both $C_r(n)$ and $C_x(n)$ for $n=0,1,\\ldots, n_{\\text{range}}$.\n",
    "The goal is to observe the decay to zero of the correlations. A value of $n_{\\text{range}}$ much smaller then the correlation time of the considered observable does not show the decay to zero. A large value of $n_{\\text{range}}$ will focus on the region where the correlations are almost zero. Moreover when $n_{\\text{range}}\\approx N_{\\text trials}$ strong fluctuations occurs for the lack of statistics. Try to find a good value of $n_{\\text{range}}$ for each observable. "
   ]
  },
  {
   "cell_type": "markdown",
   "metadata": {
    "colab_type": "text",
    "id": "bn6xFngKhHOD"
   },
   "source": [
    "#### Answer space\n",
    "A program for the data analysis with two nice linear plots. Correct values of $n_{\\text{range}}$ are expected.\n",
    "\n",
    "----------------------------------------------------------------------------------------------"
   ]
  },
  {
   "cell_type": "code",
   "execution_count": 14,
   "metadata": {},
   "outputs": [],
   "source": [
    "#returns a measure for the correlation in lst across distance n\n",
    "def C_autocorr(lst, n, mean):\n",
    "    \n",
    "    #values to average over at the end\n",
    "    c = []\n",
    "    \n",
    "    for i in range(len(lst) - n):\n",
    "        c.append((lst[i] - mean)*(lst[i+n] - mean))\n",
    "        \n",
    "    return np.mean(c)\n",
    "        "
   ]
  },
  {
   "cell_type": "code",
   "execution_count": 15,
   "metadata": {},
   "outputs": [],
   "source": [
    "ns = range(1, 500)\n",
    "r_mean = np.mean(r)\n",
    "\n",
    "cs_r = [C_autocorr(r, n, r_mean) for n in ns]"
   ]
  },
  {
   "cell_type": "code",
   "execution_count": 16,
   "metadata": {},
   "outputs": [],
   "source": [
    "x_mean = np.mean(x)\n",
    "\n",
    "cs_x = [C_autocorr(x, n, x_mean) for n in ns]"
   ]
  },
  {
   "cell_type": "code",
   "execution_count": 17,
   "metadata": {},
   "outputs": [
    {
     "data": {
      "image/png": "[encoded data removed]",
      "text/plain": [
       "<Figure size 1080x504 with 2 Axes>"
      ]
     },
     "metadata": {
      "needs_background": "light"
     },
     "output_type": "display_data"
    }
   ],
   "source": [
    "fig, (ax1, ax2) = plt.subplots(1, 2)\n",
    "fig.set_figwidth(15)\n",
    "fig.set_figheight(7)\n",
    "fig.suptitle('Autocorrelation', fontsize=\"15\")\n",
    "ax1.plot(ns, cs_r)\n",
    "ax1.set_ylabel(\"C(n)\", fontsize=\"15\")\n",
    "ax1.set_xlabel(\"n\", fontsize=\"15\")\n",
    "ax1.set_title('Observable r', fontsize=\"15\")\n",
    "ax2.plot(ns, cs_x)\n",
    "ax2.set_title('Observable x', fontsize=\"15\")\n",
    "ax2.set_xlabel(\"n\", fontsize=\"15\")\n",
    "plt.tight_layout()\n",
    "plt.show()"
   ]
  },
  {
   "cell_type": "code",
   "execution_count": 18,
   "metadata": {},
   "outputs": [
    {
     "data": {
      "image/png": "[encoded data removed]",
      "text/plain": [
       "<Figure size 1080x504 with 2 Axes>"
      ]
     },
     "metadata": {
      "needs_background": "light"
     },
     "output_type": "display_data"
    }
   ],
   "source": [
    "#start and end at different ns for better visibility\n",
    "\n",
    "fig, (ax1, ax2) = plt.subplots(1, 2)\n",
    "fig.set_figwidth(15)\n",
    "fig.set_figheight(7)\n",
    "fig.suptitle('Autocorrelation', fontsize=\"15\")\n",
    "ax1.plot(ns[7:-400], cs_r[7:-400])\n",
    "ax1.set_ylabel(\"C(n)\", fontsize=\"15\")\n",
    "ax1.set_xlabel(\"n\", fontsize=\"15\")\n",
    "ax1.set_title('Observable r', fontsize=\"15\")\n",
    "ax1.hlines(0, 7, 100, color='r')\n",
    "ax2.plot(ns[100:], cs_x[100:])\n",
    "ax2.set_title('Observable x', fontsize=\"15\")\n",
    "ax2.set_xlabel(\"n\", fontsize=\"15\")\n",
    "ax2.hlines(0, 100, 500, color='r')\n",
    "plt.tight_layout()\n",
    "plt.show()"
   ]
  },
  {
   "cell_type": "markdown",
   "metadata": {},
   "source": [
    "Good values for $n_{range}$, that I will use moving forward:\n",
    "\n",
    "$n_r = 20$\n",
    "\n",
    "$n_x = 450$"
   ]
  },
  {
   "cell_type": "markdown",
   "metadata": {
    "colab_type": "text",
    "id": "gu7f2IcChHOD"
   },
   "source": [
    " \n",
    "* **Question 5**: Check numerically if the errors obtained using the following formula \n",
    "\n",
    "$$ \\text{error} = \\sqrt{\\frac{C(0) + 2 \\sum_{n=1}^{n_{\\text{range}}} C(n)}{N_{\\text{trials}}}} $$\n",
    "\n",
    "are consistent with the results obtained using the bunching method"
   ]
  },
  {
   "cell_type": "markdown",
   "metadata": {
    "colab_type": "text",
    "id": "J5kFc94mhHOE"
   },
   "source": [
    "#### Answer space \n",
    "\n",
    "$$ \\langle x\\rangle = 1.99173 \\pm 0.0003 $$\n",
    "\n",
    "$$\\langle r\\rangle = 0.0003 \\pm 0.015 $$\n",
    "\n",
    "This result is (or not is) consistent with the error found with the bunching method.\n",
    "\n",
    "--------------------------------"
   ]
  },
  {
   "cell_type": "code",
   "execution_count": 22,
   "metadata": {
    "scrolled": true
   },
   "outputs": [
    {
     "name": "stdout",
     "output_type": "stream",
     "text": [
      "\n",
      " Obtained using autocorrelations:\n",
      "<r> = 1.9917265807405033\t±0.0003006054443214601\n",
      "<x> = 0.0002632497322084095\t±0.01498990287145887\n",
      "\n",
      " Obtained using bunching method:\n",
      "<r> = 1.9917265807405033\t±0.0003735415672881963\n",
      "<x> = 0.0002632497322084095\t±0.014758656784664467\n"
     ]
    }
   ],
   "source": [
    "#returns error obtained from autocorrelations\n",
    "def error_autocorr(cs, N_range, N):\n",
    "    \n",
    "    return np.sqrt((cs[0]+2*np.sum(cs[1:-(len(cs)-N_range)]))/N)\n",
    "\n",
    "#values found for n_range for r and x\n",
    "N_r = 20\n",
    "N_x = 450\n",
    "\n",
    "print(\"\\n Obtained using autocorrelations:\")\n",
    "print(\"<r> = \" + str(r_mean) +\"\\t\"+ chr(177) + str(error_autocorr(cs_r, N_r, N)))\n",
    "print(\"<x> = \" + str(x_mean) +\"\\t\"+ chr(177) + str(error_autocorr(cs_x, N_x, N)))\n",
    "\n",
    "print(\"\\n Obtained using bunching method:\")\n",
    "print(\"<r> = \" + str(np.mean(r)) +\"\\t\"+ chr(177) + str(bunching_err_r[6]))\n",
    "print(\"<x> = \" + str(np.mean(x)) +\"\\t\"+ chr(177) + str(bunching_err_x[9]))\n",
    "                "
   ]
  },
  {
   "cell_type": "markdown",
   "metadata": {},
   "source": [
    "Both methods closely agree."
   ]
  },
  {
   "cell_type": "markdown",
   "metadata": {
    "colab_type": "text",
    "id": "Nu9atNJIhHOF"
   },
   "source": [
    "## <center>Part II:  Markov chain and Google's PageRank </center>"
   ]
  },
  {
   "cell_type": "markdown",
   "metadata": {
    "colab_type": "text",
    "id": "U9LFX8OFhHOG"
   },
   "source": [
    "### References\n",
    "\n",
    "* <a href=\"http://infolab.stanford.edu/~backrub/google.html\">The original PageRank paper by Google’s founders Sergey Brin and Lawrence Page</a>\n",
    "* A useful lecture is the <a href=\"http://infolab.stanford.edu/~ullman/mmds/ch5.pdf\">Chap. 5 of Mining of Massive Datasets by J. Leskovec, A. Rajaraman, J. Ullman</a>\n",
    "\n",
    "In the first lecture, we introduced the MCMC (Markov Chain Monte Carlo) and its most famous representative : the Metropolis algorithm. We also discussed the properties of the transition (or Markov) matrix and the convergence of the MCMC. Here we will see a second and very important application of the transition matrix: the PageRank.\n",
    "\n",
    "### History\n",
    "\n",
    "The World Wide Web was born in the nineties and grew up very fast. There were 623 web sites in 1993, more than one million in 1997, and today we can count more than a billion of web sites. How to find your desired web page in such a jungle?\n",
    "\n",
    "At the end of the nineties the most popular search engines, like AltaVista or Yahoo!, were focused on the relevance of some keywords: a short list of results was obtained by estimating the number of occurrence and the location (title, abstract, main text...) of the keywords in the document. Unfortunately spam sites were able to find their way to get in that list by repeating many keywords. In 1997, the top search results of the keyword 'Titanic' contains only a small fraction of sites dedicated to the sad story of the British passenger liner or to the very new movie with Leo Di Caprio and Kate Winslet.\n",
    "\n",
    "To fight against Spam farms two students of Standford, Brin and Page, proposed as a solution to this problem, PangeRank, an algorithm that establishes the importance of a web site using transition matrix theory. Thanks to this idea, Brin and Page founded in 1998 a new company: Google.\n",
    "\n",
    "### The Idea\n",
    "\n",
    "The World Wide Web has the topological structure of an oriented graph: a site can link to (and be linked by) other sites. \n",
    "\n",
    "In their original paper Brin and Page imagine a Random Surfer that at each time-step moves from a visited page to a new one by selecting at random one of the possible links. The PageRank of the WWW is given by the occupation probabilities of the sites in the stationary state.\n",
    "\n",
    "### WWW graph and ranking\n",
    "\n",
    "Consider a site $a$ that links to list of sites, that we call neighbor$[a]=[a_1,a_2,\\ldots]$. For an oriented graph the fact that $a_1$ is in the list of neighbor$[a]$ does not imply that  $a$ is in the list of neighbor$[a_1]$ . We note $L_a$ the number of **outgoing** links of $a$:\n",
    "$$ L_a = \\text{len}(\\text{neighbor}[a])$$\n",
    "The transition (Markov) matrix for a random  surfer is such that \n",
    "$$T_{ba}$$\n",
    "\n",
    "\n",
    "\n",
    "\n",
    " corresponding to the move from $a\\to b$ is equal to $1/L_a$ if $a$ and $b$ are connected and $0$ otherwise, where $L_a$ is the number of **outgoing** links of $a$, i.e. equiprobability to go out of $a$ towards any of the accessible pages. The occupation probability $\\pi_a$ is called the PageRank, $\\text{PR}(a)= \\pi_a$ associated to page $a$.   Starting from the general global balance equation\n",
    "$$  \\sum_{b\\ne a} \\pi_a p_{a \\to b} = \\sum_{b\\ne a} \\pi_b p_{b \\to a}$$\n",
    "You can show the validity of the PageRank equation written by Page and Brin\n",
    "$$ \\text{PR}(a) = \\sum_{b \\text{ connected to } a} \\frac{\\text{PR}(b)}{L_b} $$"
   ]
  },
  {
   "cell_type": "markdown",
   "metadata": {
    "colab_type": "text",
    "id": "Fc97Yxo7hHOI"
   },
   "source": [
    "### The 3x3 peble game with PageRank\n",
    "\n",
    "To provide a concrete example consider again the traditional $3\\times 3$ pebble game but implement the PageRank algorithm instead of the Metropolis algorithm.\n",
    "\n",
    "**Q6:** Find the stationary state of this specific Markov chain. Are the position still evenly sampled?"
   ]
  },
  {
   "cell_type": "markdown",
   "metadata": {
    "colab_type": "text",
    "id": "was-gsJLyKqe"
   },
   "source": [
    "**Answer space**\n",
    "\n",
    "the stationary state for PageRank is (a program is expected)\n",
    "\n",
    "$$ \\pi(1)=0.083 ,\\pi(2)=0.125 ,\\pi(3)=0.083, \\pi(4)=0.125,\\pi(5)=0.167,\\pi(6)=0.125,\n",
    "\\pi(7)=0.083 ,\\pi(8)=0.125 ,\\pi(9)= 0.083 $$\n",
    "\n",
    "--------------------------------------------"
   ]
  },
  {
   "cell_type": "code",
   "execution_count": 3,
   "metadata": {
    "scrolled": true
   },
   "outputs": [
    {
     "name": "stdout",
     "output_type": "stream",
     "text": [
      "stationary state found: [0.24253563+0.j 0.36380344+0.j 0.24253563+0.j 0.36380344+0.j\n",
      " 0.48507125+0.j 0.36380344+0.j 0.24253563+0.j 0.36380344+0.j\n",
      " 0.24253563+0.j]\n",
      "\n",
      "page ranks: [0.08333333+0.j 0.125     +0.j 0.08333333+0.j 0.125     +0.j\n",
      " 0.16666667+0.j 0.125     +0.j 0.08333333+0.j 0.125     +0.j\n",
      " 0.08333333+0.j]\n",
      "\n",
      "eigenvalue: (0.9999999999999998+0j)\n"
     ]
    },
    {
     "data": {
      "image/png": "[encoded data removed]",
      "text/plain": [
       "<Figure size 288x288 with 2 Axes>"
      ]
     },
     "metadata": {
      "needs_background": "light"
     },
     "output_type": "display_data"
    }
   ],
   "source": [
    "#copied list of neighbors\n",
    "neighbors =  [[1, 3, 0, 0], [2, 4, 0, 1], [2, 5, 1, 2],\n",
    "             [4, 6, 3, 0], [5, 7, 3, 1], [5, 8, 4, 2],\n",
    "             [7, 6, 6, 3], [8, 7, 6, 4], [8, 8, 7, 5]]\n",
    "\n",
    "#set up markov matrix\n",
    "markov = np.zeros((9,9))\n",
    "\n",
    "#set up Ls for all positions\n",
    "Ls = np.zeros(9)\n",
    "\n",
    "#matrix elements, no self loops\n",
    "for i in range(9):\n",
    "     \n",
    "        #first, compute L_i\n",
    "        for neighbor in neighbors[i]:\n",
    "            if neighbor != i:\n",
    "                Ls[i] += 1\n",
    "        \n",
    "        #second, write matrix entries\n",
    "        for j in neighbors[i]:\n",
    "            if j != i:\n",
    "                markov[j,i] = 1/Ls[i]      \n",
    "                \n",
    "#find eigenstates\n",
    "eigenvalues, eigenvectors = np.linalg.eig(markov)\n",
    "\n",
    "#save stationary state here\n",
    "stat_state = np.zeros(9)\n",
    "\n",
    "#stationary state corresponds to eigenvalue +1, transpose eigenvectors to get columns!\n",
    "for (eigenvalue, eigenvector) in zip(eigenvalues, eigenvectors.T):\n",
    "    \n",
    "    #compare up to reasonable precision\n",
    "    if np.round(eigenvalue, decimals=10) == 1:\n",
    "        stat_state = eigenvector\n",
    "        print(\"stationary state found: \" + str(eigenvector) + \"\\n\")\n",
    "        print(\"page ranks: \" + str(eigenvector*(1/np.sum(eigenvector))) + \"\\n\")\n",
    "        print(\"eigenvalue: \" + str(eigenvalue))\n",
    "        break\n",
    "\n",
    "\n",
    "stat_weights = np.reshape(stat_state*(1/np.sum(stat_state)), (3,3))\n",
    "cax = plt.matshow(np.round(np.abs(stat_weights), decimals=6))\n",
    "cbar = plt.colorbar(cax)\n",
    "plt.show()"
   ]
  },
  {
   "cell_type": "code",
   "execution_count": 448,
   "metadata": {},
   "outputs": [
    {
     "name": "stdout",
     "output_type": "stream",
     "text": [
      "Change after applying the markov matrix ten times: \n",
      "[ 0.+0.j  0.+0.j -0.+0.j  0.+0.j -0.+0.j -0.+0.j  0.+0.j  0.+0.j -0.+0.j]\n"
     ]
    }
   ],
   "source": [
    "#check whether we really found the stationary eigenstate\n",
    "state = stat_state.copy()\n",
    "\n",
    "for i in range(10):\n",
    "    state = np.matmul(markov, state)\n",
    "\n",
    "print(\"Change after applying the markov matrix ten times: \")\n",
    "print(np.round(state - stat_state, decimals=15))"
   ]
  },
  {
   "cell_type": "markdown",
   "metadata": {},
   "source": [
    "The positions are no longer evenly sampled, instead the squares with many neighbours are visited more often."
   ]
  },
  {
   "cell_type": "markdown",
   "metadata": {
    "colab_type": "text",
    "id": "EnKfTmr-zCmR"
   },
   "source": [
    "**Q7:** By studying the spectrum of the Markov matrix, determine the properties of the Markov chain (periodic or aperiodic, reducible or irreducible)."
   ]
  },
  {
   "cell_type": "markdown",
   "metadata": {
    "colab_type": "text",
    "id": "6k2UHjPyzeX4"
   },
   "source": [
    "**Answer space**\n",
    "\n",
    "...\n",
    "\n",
    "-----------------------------------------------------------------------"
   ]
  },
  {
   "cell_type": "code",
   "execution_count": 449,
   "metadata": {},
   "outputs": [
    {
     "name": "stdout",
     "output_type": "stream",
     "text": [
      "Markov chain is periodic due to its eigenvalue: (-0.9999999999999999+0j)\n"
     ]
    }
   ],
   "source": [
    "#is the Markov chain periodic?\n",
    "for eigenvalue in eigenvalues:\n",
    "    \n",
    "    #check if |λ| = 1 and λ != 1\n",
    "    if (np.round(np.abs(eigenvalue),decimals=10)==1) and not(np.round(eigenvalue, decimals=10)==1):\n",
    "        print(\"Markov chain is periodic due to its eigenvalue: \" + str(eigenvalue))"
   ]
  },
  {
   "cell_type": "markdown",
   "metadata": {},
   "source": [
    "Also the Markov matrix is irreducible, since we can reach every position from every other position in a finite number of steps."
   ]
  },
  {
   "cell_type": "markdown",
   "metadata": {
    "colab_type": "text",
    "id": "XjMDz7ewhHOM"
   },
   "source": [
    "### Dead Ends and Spider Traps\n",
    "\n",
    "The PageRank described above works if the Markov matrix is irreducible, \n",
    "but several snares are hidden in the WWW: the Surfer can find a **dead end**, \n",
    "    namely a web page that does not contain links, or, even worst, can jump \n",
    "    in a **spider trap**, e.g. a set of nodes with no dead ends but no links with the outside world. \n",
    "\n",
    "The strategy to deal with them is called taxation. It relies on a damping parameter $d$ that we take in the interval $[0,1]$ (usually $d=0.85$) The novel dynamics can be written as\n",
    "$$ \\vec{\\pi}(t+1) = d\\, T\\vec{\\pi}(t) + \\frac{1−d}{n}\\vec{J}\\quad \\text{ where }\\vec{J} = \\begin{pmatrix} 1\\\\ \\vdots \\\\1\\end{pmatrix} $$\n",
    "here $n$ is the total number of web page.\n",
    "One can show that in presence of taxation the PageRank formula writes\n",
    "$$ \\text{PR}(a) = d\\sum_{b \\text{ connected to } a} \\frac{\\text{PR}(b)}{L_b} + \\frac{1−d}{n}  $$\n",
    "Taxation modifies the dynamics of Random Surfers and solves the problem of both spider traps and dead ends. \n",
    "\n",
    "**Question 8:** Provide the PageRank with this prescription and 𝑑=0.85 for the nieghbor below drawn above.  Identify the dead end or the spider trap.\n",
    "\n",
    "\n"
   ]
  },
  {
   "cell_type": "markdown",
   "metadata": {
    "colab_type": "text",
    "id": "f8krG6Z1hHOa"
   },
   "source": [
    "**Answer space**\n",
    "\n",
    "A program is expected to answer this question. \n",
    "\n",
    "The final PageRank for the $6$ page is\n",
    "\n",
    "$$ \\pi(1)=0.116, \\quad  \\pi(2)= 0.107, \\quad \\pi(3)= 0.107$$\n",
    "$$ \\pi(4)=0.116, \\quad  \\pi(5)= 0.285, \\quad \\pi(6)= 0.268$$\n",
    "\n",
    "\n",
    "The sites... are...\n",
    "\n",
    "--------------------------"
   ]
  },
  {
   "cell_type": "code",
   "execution_count": 364,
   "metadata": {},
   "outputs": [],
   "source": [
    "neighbors_original = {1 : [2, 3], 2 : [1, 4], 3 : [1, 4], 4 : [2, 3, 5], 5 : [6], 6 : [5]}"
   ]
  },
  {
   "cell_type": "code",
   "execution_count": 3,
   "metadata": {},
   "outputs": [
    {
     "name": "stdout",
     "output_type": "stream",
     "text": [
      "page ranks/stationary state: \n",
      "[0.11623037 0.10732984 0.10732984 0.11623037 0.28534031 0.26753927]\n"
     ]
    }
   ],
   "source": [
    "neighbors_pr = [[1,2], [0,3], [0,3], [1,2,4], [5], [4]]\n",
    "\n",
    "#number of pages\n",
    "n = 6\n",
    "\n",
    "#damping parameter\n",
    "d = 0.85\n",
    "\n",
    "#set up markov matrix\n",
    "markov_pr = np.zeros((n,n))\n",
    "\n",
    "#set up Ls for all positions\n",
    "Ls_pr = np.zeros(n)\n",
    "\n",
    "#matrix elements, no self loops\n",
    "for i in range(n):\n",
    "     \n",
    "        #first, compute L_i\n",
    "        for neighbor in neighbors_pr[i]:\n",
    "            if neighbor != i:\n",
    "                Ls_pr[i] += 1\n",
    "        \n",
    "        #second, write matrix entries\n",
    "        for j in neighbors_pr[i]:\n",
    "            if j != i:\n",
    "                markov_pr[j,i] = 1/Ls_pr[i]\n",
    "                \n",
    "\n",
    "#solve system of linear equations\n",
    "a = d*markov_pr - np.identity(n)\n",
    "b = (-(1-d)/n)*np.ones(n)\n",
    "\n",
    "stat_state_pr = np.linalg.solve(a, b)\n",
    "\n",
    "print(\"page ranks/stationary state: \")\n",
    "print(stat_state_pr)"
   ]
  },
  {
   "cell_type": "code",
   "execution_count": 4,
   "metadata": {},
   "outputs": [
    {
     "data": {
      "image/png": "[encoded data removed]",
      "text/plain": [
       "<Figure size 432x288 with 1 Axes>"
      ]
     },
     "metadata": {},
     "output_type": "display_data"
    }
   ],
   "source": [
    "import networkx as nx\n",
    "\n",
    "#create directed graph\n",
    "DG = nx.DiGraph()\n",
    "\n",
    "#add nodes\n",
    "DG.add_nodes_from(range(n))\n",
    "labels = {}\n",
    "for node in range(n):\n",
    "    labels[node] = str(node+1)\n",
    "\n",
    "#add edges\n",
    "for node in range(n):\n",
    "    \n",
    "    for neighbor in neighbors_pr[node]:\n",
    "        DG.add_edge(node, neighbor)\n",
    "\n",
    "#plot graph\n",
    "nx.draw(DG, labels=labels)"
   ]
  },
  {
   "cell_type": "markdown",
   "metadata": {},
   "source": [
    "It is clear that the nodes 5 and 6 represent a spider trap."
   ]
  },
  {
   "cell_type": "markdown",
   "metadata": {
    "colab_type": "text",
    "id": "DJXllSiMhHOf"
   },
   "source": [
    "### PageRank performace:\n",
    "\n",
    "The PageRank algorithm is a time-consuming process. One might think that a simplified ranking which counts the number of **ingoing** links of each page would be very similar. This is not the case. Below we use the e-mail network  of a EU research institution. The data taken from https://snap.stanford.edu/data/   has been pre-processed to help your work. In particular the marix \n",
    "$$\\text{adj_matrix} [i,j] = \n",
    "\\begin{cases}\n",
    "1 \\quad \\text{if} \\; j \\; \\text{sent at least an e-mail to} \\; i \\\\\n",
    "0 \\quad \\text{if} \\; j\\; \\text{did not send an e-mail to} \\; i\n",
    "\\end{cases}\n",
    "$$\n",
    "The Matris $T$ is the PageRank Markov matrix associated to $\\text{adj_matrix} [i,j]$.\n",
    " \n",
    " \n",
    " **Question 9++**: \n",
    " * Use the two methods and rank the first 4 pages of this complex network. (Use $d=0.85$)\n",
    " * Determine the number of possible stationary states, namely the number of clusters of the graph.\n"
   ]
  },
  {
   "cell_type": "code",
   "execution_count": 62,
   "metadata": {
    "colab": {},
    "colab_type": "code",
    "id": "IGS9xcVWi4-D"
   },
   "outputs": [],
   "source": [
    "adj_matrix, T = np.load('net_data.npy', allow_pickle=True)"
   ]
  },
  {
   "cell_type": "markdown",
   "metadata": {
    "colab_type": "text",
    "id": "-NdUQbYfTke2"
   },
   "source": [
    "**Answer Space**\n",
    "Difficult question to do at the very end."
   ]
  },
  {
   "cell_type": "markdown",
   "metadata": {},
   "source": [
    "Didn't know whether to start counting at $0$ or at $1$, decided to start at $1$ (just as in the previous exercises) so results might be off by one depending on definition."
   ]
  },
  {
   "cell_type": "code",
   "execution_count": 35,
   "metadata": {},
   "outputs": [
    {
     "name": "stdout",
     "output_type": "stream",
     "text": [
      "Analyse Markov matrix spectrum (no taxation implemented here): \n",
      "\n",
      "Degeneracy of eigenvalue +1 : 181\n",
      "Multiple stationary states are possible!\n",
      "\n",
      "\n",
      "Degeneracy of eigenvalue 0 : 14\n",
      "PageRank Markov matrix does not have full rank!\n"
     ]
    }
   ],
   "source": [
    "#number of pages\n",
    "n_pages = T.shape[0]\n",
    "\n",
    "#damping parameter\n",
    "d = 0.85\n",
    "\n",
    "#naive method -> no damping/taxation\n",
    "eigenvals, eigenvecs = np.linalg.eig(T)\n",
    "\n",
    "#check degeneracy of +1 and 0\n",
    "c1=0\n",
    "c0=0\n",
    "\n",
    "for entry in eigenvals:\n",
    "    if entry == 1:\n",
    "        c1 += 1\n",
    "    elif entry == 0:\n",
    "        c0 += 1\n",
    "\n",
    "#stationary states\n",
    "print(\"Analyse Markov matrix spectrum (no taxation implemented here): \\n\")\n",
    "\n",
    "print(\"Degeneracy of eigenvalue +1 : \" + str(c1))\n",
    "if c1 > 1:\n",
    "    print(\"Multiple stationary states are possible!\")\n",
    "\n",
    "print(\"\\n\")\n",
    "\n",
    "#rank of Markov matrix\n",
    "print(\"Degeneracy of eigenvalue 0 : \" + str(c0))\n",
    "if c0 != 0:\n",
    "    print(\"PageRank Markov matrix does not have full rank!\")\n",
    "    \n"
   ]
  },
  {
   "cell_type": "code",
   "execution_count": 31,
   "metadata": {},
   "outputs": [
    {
     "name": "stdout",
     "output_type": "stream",
     "text": [
      "number of dead ends: \n",
      "181\n"
     ]
    }
   ],
   "source": [
    "#analyse stationary states\n",
    "\n",
    "#count number of dead ends\n",
    "dead_ends = 0\n",
    "    \n",
    "for (val,vec) in zip(eigenvals, eigenvecs.T):\n",
    "    \n",
    "    #look at stationary states only\n",
    "    if val == 1:\n",
    "        for entry in vec:\n",
    "            if entry == 1:\n",
    "                dead_ends += 1\n",
    "            \n",
    "print(\"number of dead ends: \") \n",
    "print(dead_ends)"
   ]
  },
  {
   "cell_type": "markdown",
   "metadata": {},
   "source": [
    "This means that the 181-fold degeneracy of the eigenvalue $\\lambda = 1$, or rather the 181 possible stationary states can be explained in their entirety by the existance of 181 dead ends/clusters."
   ]
  },
  {
   "cell_type": "code",
   "execution_count": 65,
   "metadata": {},
   "outputs": [
    {
     "name": "stdout",
     "output_type": "stream",
     "text": [
      "Results from counting links: \n",
      "\n",
      "Top four pages/employees(from lowest to highest): \n",
      "[122 108  63 161]\n",
      "The corresponding number of incoming links: \n",
      "[157. 169. 179. 212.]\n"
     ]
    }
   ],
   "source": [
    "#first method -> count links, rank by number of links\n",
    "link_ranks = np.zeros(n_pages)\n",
    "\n",
    "#sum over rows, meaning over j or rather incoming mails\n",
    "link_ranks = adj_matrix.sum(axis=1)\n",
    "        \n",
    "print(\"Results from counting links: \\n\")\n",
    "\n",
    "#sort indices by rank to find first four pages \n",
    "link_ranking = np.argsort(link_ranks)\n",
    "\n",
    "#print top four pages, +1 means we start indexing with 1\n",
    "print(\"Top four pages/employees(from lowest to highest): \")\n",
    "print((link_ranking[-4:] + 1))\n",
    "print(\"The corresponding number of incoming links: \")\n",
    "print(link_ranks[link_ranking[-4:]])"
   ]
  },
  {
   "cell_type": "code",
   "execution_count": 37,
   "metadata": {},
   "outputs": [
    {
     "name": "stdout",
     "output_type": "stream",
     "text": [
      "Algebraic results from PageRank with taxation: \n",
      "\n",
      "page ranks/stationary state: \n",
      "[0.00104006 0.00816113 0.00170818 ... 0.00108804 0.00016498 0.00112345]\n",
      "\n",
      "\n",
      "Top four pages/employees(from lowest to highest): \n",
      "[161 131 204   2]\n",
      "Their corresponding weights are: \n",
      "[0.00550936 0.00596679 0.00672469 0.00816113]\n"
     ]
    }
   ],
   "source": [
    "#second method -> solve system of linear equations with taxation\n",
    "A = d*T - np.identity(n_pages)\n",
    "B = (-(1-d)/n_pages)*np.ones(n_pages)\n",
    "\n",
    "page_ranks = np.linalg.solve(A, B)\n",
    "\n",
    "print(\"Algebraic results from PageRank with taxation: \\n\")\n",
    "\n",
    "print(\"page ranks/stationary state: \")\n",
    "print(page_ranks)\n",
    "print(\"\\n\")\n",
    "\n",
    "#sort indices by rank to find first four pages \n",
    "ranking = np.argsort(page_ranks)\n",
    "\n",
    "#print top four pages, +1 means we start indexing with 1\n",
    "print(\"Top four pages/employees(from lowest to highest): \")\n",
    "print((ranking[-4:] + 1))\n",
    "print(\"Their corresponding weights are: \")\n",
    "print(page_ranks[ranking[-4:]])"
   ]
  },
  {
   "cell_type": "code",
   "execution_count": 45,
   "metadata": {},
   "outputs": [],
   "source": [
    "#second method -> solve iteratively with taxation\n",
    "\n",
    "#initial distribution\n",
    "state = np.ones(n_pages)/n_pages\n",
    "\n",
    "#number of iterations\n",
    "n_iterations = 10**4\n",
    "\n",
    "for i in range(n_iterations):\n",
    "    state = d*np.matmul(T, state) + ((1-d)/n_pages)*np.ones(n_pages)\n",
    "\n"
   ]
  },
  {
   "cell_type": "code",
   "execution_count": 47,
   "metadata": {},
   "outputs": [
    {
     "name": "stdout",
     "output_type": "stream",
     "text": [
      "Results from iterative PageRank approach with taxation: \n",
      "\n",
      "Top five pages/employees(from lowest to highest): \n",
      "[161 131 204   2]\n",
      "Their corresponding weights are: \n",
      "[0.00550936 0.00596679 0.00672469 0.00816113]\n"
     ]
    }
   ],
   "source": [
    "print(\"Results from iterative PageRank approach with taxation: \\n\")\n",
    "\n",
    "#sort indices by rank to find first four pages \n",
    "ranking_iter = np.argsort(state)\n",
    "\n",
    "#print top four pages, +1 means we start indexing with 1\n",
    "print(\"Top five pages/employees(from lowest to highest): \")\n",
    "print((ranking_iter[-4:] + 1))\n",
    "print(\"Their corresponding weights are: \")\n",
    "print(state[ranking_iter[-4:]])"
   ]
  },
  {
   "cell_type": "markdown",
   "metadata": {},
   "source": [
    "The algebraic and iterative methods give exactly the same result! Obviously the extremly naive method of counting links gave a different result, which is lacklustre at best (only employee #161 appears in both rankings)."
   ]
  },
  {
   "cell_type": "code",
   "execution_count": null,
   "metadata": {},
   "outputs": [],
   "source": []
  }
 ],
 "metadata": {
  "anaconda-cloud": {},
  "colab": {
   "collapsed_sections": [],
   "name": "HW1.ipynb",
   "provenance": []
  },
  "kernelspec": {
   "display_name": "Python 3",
   "language": "python",
   "name": "python3"
  },
  "language_info": {
   "codemirror_mode": {
    "name": "ipython",
    "version": 3
   },
   "file_extension": ".py",
   "mimetype": "text/x-python",
   "name": "python",
   "nbconvert_exporter": "python",
   "pygments_lexer": "ipython3",
   "version": "3.7.9"
  },
  "nbpresent": {
   "slides": {
    "003ac640-a8f5-4c8b-b027-0e6ac5aeadf1": {
     "id": "003ac640-a8f5-4c8b-b027-0e6ac5aeadf1",
     "prev": "8d64b922-1033-4abd-a055-ddeb2c4e7eae",
     "regions": {
      "e9983e0e-b2ab-4121-8c1d-fc0a2876df24": {
       "attrs": {
        "height": 0.8,
        "width": 0.8,
        "x": 0.1,
        "y": 0.1
       },
       "content": {
        "cell": "38d255ea-801f-4fba-ab56-69e7e76acd51",
        "part": "whole"
       },
       "id": "e9983e0e-b2ab-4121-8c1d-fc0a2876df24"
      }
     }
    },
    "05494ce9-75ca-4221-b16a-ac644d2e048b": {
     "id": "05494ce9-75ca-4221-b16a-ac644d2e048b",
     "prev": null,
     "regions": {
      "2676a39b-6407-433a-9f75-7af1a78ae1d4": {
       "attrs": {
        "height": 0.8,
        "width": 0.8,
        "x": 0.1,
        "y": 0.1
       },
       "content": {
        "cell": "41110e57-97d0-4804-9dd1-1b45e3b94408",
        "part": "whole"
       },
       "id": "2676a39b-6407-433a-9f75-7af1a78ae1d4"
      }
     }
    },
    "263d6249-cc7a-4aea-9cfa-6617d85c17e6": {
     "id": "263d6249-cc7a-4aea-9cfa-6617d85c17e6",
     "prev": "f0ac56f7-b949-4bfb-9d58-5f21384631c7",
     "regions": {
      "711f5e4d-ba0b-455e-b7cc-a20386b48ce1": {
       "attrs": {
        "height": 0.8,
        "width": 0.8,
        "x": 0.1,
        "y": 0.1
       },
       "content": {
        "cell": "7e906668-803f-4a7d-b0fd-4f3089134a41",
        "part": "whole"
       },
       "id": "711f5e4d-ba0b-455e-b7cc-a20386b48ce1"
      }
     }
    },
    "2b528880-956d-4a77-bc69-57453e9d090c": {
     "id": "2b528880-956d-4a77-bc69-57453e9d090c",
     "prev": "05494ce9-75ca-4221-b16a-ac644d2e048b",
     "regions": {
      "abecb19d-49c3-4f0f-b8f5-b92fb41f0327": {
       "attrs": {
        "height": 1,
        "width": 1,
        "x": 0,
        "y": 0
       },
       "content": {
        "cell": "f2f60dbd-7be9-4de7-927a-010e92eae10d",
        "part": "source"
       },
       "id": "abecb19d-49c3-4f0f-b8f5-b92fb41f0327"
      }
     }
    },
    "4f35be28-2fcd-46a4-b5a3-fe55a597adfd": {
     "id": "4f35be28-2fcd-46a4-b5a3-fe55a597adfd",
     "prev": "629563e2-8a4d-430e-b34d-1a4b571ebcea",
     "regions": {
      "b765e0d2-b763-4e10-8a98-883b4219d388": {
       "attrs": {
        "height": 0.8,
        "width": 0.8,
        "x": 0.1,
        "y": 0.1
       },
       "content": {
        "cell": "1e8578a7-1bef-4fed-869d-c87609066916",
        "part": "whole"
       },
       "id": "b765e0d2-b763-4e10-8a98-883b4219d388"
      }
     }
    },
    "55ed7ebd-6236-4e2a-9c81-4f7893bd521f": {
     "id": "55ed7ebd-6236-4e2a-9c81-4f7893bd521f",
     "prev": "db6ec664-6432-48b8-9e85-c4ad92c452df",
     "regions": {
      "537b090d-c4bb-4ee0-a833-428c4c844595": {
       "attrs": {
        "height": 0.8,
        "width": 0.8,
        "x": 0.1,
        "y": 0.1
       },
       "content": {
        "cell": "007f0881-3c51-4917-a240-1f116e9fae5a",
        "part": "whole"
       },
       "id": "537b090d-c4bb-4ee0-a833-428c4c844595"
      }
     }
    },
    "5dfc3530-5606-47b4-bac8-0e0a486fdac9": {
     "id": "5dfc3530-5606-47b4-bac8-0e0a486fdac9",
     "prev": "4f35be28-2fcd-46a4-b5a3-fe55a597adfd",
     "regions": {
      "99424017-13b7-41b3-92b3-ca4a7fe4420a": {
       "attrs": {
        "height": 0.8,
        "width": 0.8,
        "x": 0.1,
        "y": 0.1
       },
       "content": {
        "cell": "fb623811-b04a-4d47-af02-0cd3cec98fe6",
        "part": "whole"
       },
       "id": "99424017-13b7-41b3-92b3-ca4a7fe4420a"
      }
     }
    },
    "629563e2-8a4d-430e-b34d-1a4b571ebcea": {
     "id": "629563e2-8a4d-430e-b34d-1a4b571ebcea",
     "prev": "263d6249-cc7a-4aea-9cfa-6617d85c17e6",
     "regions": {
      "7231e74f-1f96-4232-9cbd-90d4b4d5ff85": {
       "attrs": {
        "height": 0.8,
        "width": 0.8,
        "x": 0.1,
        "y": 0.1
       },
       "content": {
        "cell": "8d1c2eb3-1201-498b-b32a-497e637c14a8",
        "part": "whole"
       },
       "id": "7231e74f-1f96-4232-9cbd-90d4b4d5ff85"
      }
     }
    },
    "7475f926-f89b-42f0-8015-429173586f4c": {
     "id": "7475f926-f89b-42f0-8015-429173586f4c",
     "prev": "ae862604-31f3-4c8c-a167-8a0589451087",
     "regions": {
      "a066f518-4006-4745-a05d-55a724a6a3c3": {
       "attrs": {
        "height": 0.8,
        "width": 0.8,
        "x": 0.1,
        "y": 0.1
       },
       "content": {
        "cell": "12ebd12c-de0d-49fc-85cf-34c577d92e67",
        "part": "whole"
       },
       "id": "a066f518-4006-4745-a05d-55a724a6a3c3"
      }
     }
    },
    "756d45cc-ddef-4bab-b5da-ded2e63922ff": {
     "id": "756d45cc-ddef-4bab-b5da-ded2e63922ff",
     "prev": "90aa1e90-3ede-4b9b-9669-b56ae40d3db9",
     "regions": {
      "765ab9b4-2254-4619-b548-caa0ab66f7c1": {
       "attrs": {
        "height": 0.8,
        "width": 0.8,
        "x": 0.1,
        "y": 0.1
       },
       "content": {
        "cell": "3b3a3e98-01cc-48f4-8438-eb41337b7304",
        "part": "whole"
       },
       "id": "765ab9b4-2254-4619-b548-caa0ab66f7c1"
      }
     }
    },
    "89942d57-ec75-4422-8640-62f46f514cbc": {
     "id": "89942d57-ec75-4422-8640-62f46f514cbc",
     "prev": "2b528880-956d-4a77-bc69-57453e9d090c",
     "regions": {
      "36e974df-3740-475f-9735-55326420feb8": {
       "attrs": {
        "height": 0.8,
        "width": 0.8,
        "x": 0.1,
        "y": 0.1
       },
       "content": {
        "cell": "f2f60dbd-7be9-4de7-927a-010e92eae10d",
        "part": "whole"
       },
       "id": "36e974df-3740-475f-9735-55326420feb8"
      }
     }
    },
    "8be7057d-0f78-48a0-8d0f-177221287eb7": {
     "id": "8be7057d-0f78-48a0-8d0f-177221287eb7",
     "prev": "89942d57-ec75-4422-8640-62f46f514cbc",
     "regions": {
      "cc46965a-9581-464a-8f1a-74c5630d6e49": {
       "attrs": {
        "height": 0.8,
        "width": 0.8,
        "x": 0.1,
        "y": 0.1
       },
       "content": {
        "cell": "28bcc5d9-2f18-4692-9b74-69ba03d2d736",
        "part": "whole"
       },
       "id": "cc46965a-9581-464a-8f1a-74c5630d6e49"
      }
     }
    },
    "8d64b922-1033-4abd-a055-ddeb2c4e7eae": {
     "id": "8d64b922-1033-4abd-a055-ddeb2c4e7eae",
     "prev": "e14ca282-9249-4eb1-8955-c492117fcf80",
     "regions": {
      "16343b66-ba3b-4f10-93dd-174441d44548": {
       "attrs": {
        "height": 0.8,
        "width": 0.8,
        "x": 0.1,
        "y": 0.1
       },
       "content": {
        "cell": "183fbe85-0dbc-413a-9516-e5475b071825",
        "part": "whole"
       },
       "id": "16343b66-ba3b-4f10-93dd-174441d44548"
      }
     }
    },
    "90aa1e90-3ede-4b9b-9669-b56ae40d3db9": {
     "id": "90aa1e90-3ede-4b9b-9669-b56ae40d3db9",
     "prev": "003ac640-a8f5-4c8b-b027-0e6ac5aeadf1",
     "regions": {
      "61663704-4d58-4eaa-a447-d994a52948b5": {
       "attrs": {
        "height": 0.8,
        "width": 0.8,
        "x": 0.1,
        "y": 0.1
       },
       "content": {
        "cell": "3b20cbb7-f983-4363-868d-d6c55d4d5cb5",
        "part": "whole"
       },
       "id": "61663704-4d58-4eaa-a447-d994a52948b5"
      }
     }
    },
    "a5e88670-b948-4f96-9e83-cdcc468b1497": {
     "id": "a5e88670-b948-4f96-9e83-cdcc468b1497",
     "prev": "756d45cc-ddef-4bab-b5da-ded2e63922ff",
     "regions": {
      "b2641fbc-b1cd-4d5b-8cbb-d20fe8f8ed0c": {
       "attrs": {
        "height": 0.8,
        "width": 0.8,
        "x": 0.1,
        "y": 0.1
       },
       "content": {
        "cell": "a409fa73-0f40-4da8-9604-1ed13470f072",
        "part": "whole"
       },
       "id": "b2641fbc-b1cd-4d5b-8cbb-d20fe8f8ed0c"
      }
     }
    },
    "ae862604-31f3-4c8c-a167-8a0589451087": {
     "id": "ae862604-31f3-4c8c-a167-8a0589451087",
     "prev": "af6a2d33-8f4d-4f7f-8013-a25782a68307",
     "regions": {
      "c4b5c96a-e96a-465a-bb96-b168f9bc78a4": {
       "attrs": {
        "height": 0.8,
        "width": 0.8,
        "x": 0.1,
        "y": 0.1
       },
       "content": {
        "cell": "12ec6fd0-6959-4ae7-9ec1-f9067deaff51",
        "part": "whole"
       },
       "id": "c4b5c96a-e96a-465a-bb96-b168f9bc78a4"
      }
     }
    },
    "af6a2d33-8f4d-4f7f-8013-a25782a68307": {
     "id": "af6a2d33-8f4d-4f7f-8013-a25782a68307",
     "prev": "5dfc3530-5606-47b4-bac8-0e0a486fdac9",
     "regions": {
      "48bf757d-827a-4fc0-bfbf-688a1c7d4ea8": {
       "attrs": {
        "height": 0.8,
        "width": 0.8,
        "x": 0.1,
        "y": 0.1
       },
       "content": {
        "cell": "a5b1917d-b79a-4d22-911c-7a24dcecdb7d",
        "part": "whole"
       },
       "id": "48bf757d-827a-4fc0-bfbf-688a1c7d4ea8"
      }
     }
    },
    "d21bc81d-3e18-44ce-9022-0eeddbbfdcb2": {
     "id": "d21bc81d-3e18-44ce-9022-0eeddbbfdcb2",
     "prev": "8be7057d-0f78-48a0-8d0f-177221287eb7",
     "regions": {
      "a0d5d2d6-22a3-44a4-a469-5df3136014b8": {
       "attrs": {
        "height": 0.8,
        "width": 0.8,
        "x": 0.1,
        "y": 0.1
       },
       "content": {
        "cell": "24d704ad-05f0-4cdf-882f-6d62b76cb013",
        "part": "whole"
       },
       "id": "a0d5d2d6-22a3-44a4-a469-5df3136014b8"
      }
     }
    },
    "d26f277e-13ce-4ba4-863f-f80890aa89c2": {
     "id": "d26f277e-13ce-4ba4-863f-f80890aa89c2",
     "prev": "f0bbe2b4-6625-48e3-a7cc-a08713827f82",
     "regions": {
      "8582c75c-cee0-48ff-8c27-b46d7b410013": {
       "attrs": {
        "height": 0.8,
        "width": 0.8,
        "x": 0.1,
        "y": 0.1
       },
       "content": {
        "cell": "66396899-f4bc-4ebe-a077-6ec5e7d6f072",
        "part": "whole"
       },
       "id": "8582c75c-cee0-48ff-8c27-b46d7b410013"
      }
     }
    },
    "d9681443-ffd4-430c-91a0-393e3ee9999c": {
     "id": "d9681443-ffd4-430c-91a0-393e3ee9999c",
     "prev": "55ed7ebd-6236-4e2a-9c81-4f7893bd521f",
     "regions": {
      "c9b9d00d-d7e4-4c73-bc48-6a649b3ff069": {
       "attrs": {
        "height": 0.8,
        "width": 0.8,
        "x": 0.1,
        "y": 0.1
       },
       "content": {
        "cell": "502eb46a-ce90-449c-8036-34bbc4124eb3",
        "part": "whole"
       },
       "id": "c9b9d00d-d7e4-4c73-bc48-6a649b3ff069"
      }
     }
    },
    "db6ec664-6432-48b8-9e85-c4ad92c452df": {
     "id": "db6ec664-6432-48b8-9e85-c4ad92c452df",
     "prev": "d21bc81d-3e18-44ce-9022-0eeddbbfdcb2",
     "regions": {
      "d0bf8a30-7fad-4807-bce8-5241930f699a": {
       "attrs": {
        "height": 0.8,
        "width": 0.8,
        "x": 0.1,
        "y": 0.1
       },
       "content": {
        "cell": "08fc67ec-76b1-418d-9d24-410fb46c8320",
        "part": "whole"
       },
       "id": "d0bf8a30-7fad-4807-bce8-5241930f699a"
      }
     }
    },
    "e14ca282-9249-4eb1-8955-c492117fcf80": {
     "id": "e14ca282-9249-4eb1-8955-c492117fcf80",
     "prev": "d9681443-ffd4-430c-91a0-393e3ee9999c",
     "regions": {
      "bfc2409b-262c-4fea-9d82-4a81a1bf96a4": {
       "attrs": {
        "height": 0.8,
        "width": 0.8,
        "x": 0.1,
        "y": 0.1
       },
       "content": {
        "cell": "80ce218c-e4c6-4ada-8a50-acacb9861ecc",
        "part": "whole"
       },
       "id": "bfc2409b-262c-4fea-9d82-4a81a1bf96a4"
      }
     }
    },
    "f0ac56f7-b949-4bfb-9d58-5f21384631c7": {
     "id": "f0ac56f7-b949-4bfb-9d58-5f21384631c7",
     "prev": "d26f277e-13ce-4ba4-863f-f80890aa89c2",
     "regions": {
      "c0663418-f0d7-4524-8c26-2fc5af9c5dc8": {
       "attrs": {
        "height": 0.8,
        "width": 0.8,
        "x": 0.1,
        "y": 0.1
       },
       "content": {
        "cell": "c0f6ee87-2c35-48a4-836b-24a5e5827f99",
        "part": "whole"
       },
       "id": "c0663418-f0d7-4524-8c26-2fc5af9c5dc8"
      }
     }
    },
    "f0bbe2b4-6625-48e3-a7cc-a08713827f82": {
     "id": "f0bbe2b4-6625-48e3-a7cc-a08713827f82",
     "prev": "a5e88670-b948-4f96-9e83-cdcc468b1497",
     "regions": {
      "45216f6b-0f62-4367-80c9-5a280b55920c": {
       "attrs": {
        "height": 0.8,
        "width": 0.8,
        "x": 0.1,
        "y": 0.1
       },
       "content": {
        "cell": "7d695135-5b1c-417d-be91-48947121f05e",
        "part": "whole"
       },
       "id": "45216f6b-0f62-4367-80c9-5a280b55920c"
      }
     }
    }
   },
   "themes": {}
  }
 },
 "nbformat": 4,
 "nbformat_minor": 1
}
